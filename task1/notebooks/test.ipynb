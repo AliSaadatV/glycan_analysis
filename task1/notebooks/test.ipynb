{
 "cells": [
  {
   "cell_type": "code",
   "execution_count": null,
   "metadata": {},
   "outputs": [],
   "source": []
  },
  {
   "cell_type": "code",
   "execution_count": 1,
   "metadata": {},
   "outputs": [],
   "source": [
    "import pandas as pd\n",
    "import matplotlib.pyplot as plt\n",
    "import seaborn as sns\n",
    "import sys\n",
    "import os\n",
    "\n",
    "sys.path.append(os.path.abspath(os.path.join(os.getcwd(), '..')))\n",
    "from src.utils import load_config, seed_everything, calculate_cv_per_class, calculate_d_ratio, calculate_detection_rate, correct_blank"
   ]
  },
  {
   "cell_type": "code",
   "execution_count": 2,
   "metadata": {},
   "outputs": [],
   "source": [
    "# for reproducibility\n",
    "seed_everything(42)\n",
    "\n",
    "# config file\n",
    "config = load_config(\"../configs/config.yaml\")\n",
    "\n",
    "# Set Seaborn style\n",
    "sns.set(style=config['sns_params']['style'],\n",
    "        palette=config['sns_params']['palette'],\n",
    "        font_scale=config['sns_params']['font_scale'])\n",
    "\n",
    "# Set Matplotlib parameters\n",
    "plt.rcParams.update(config['plt_params'])"
   ]
  },
  {
   "cell_type": "code",
   "execution_count": 4,
   "metadata": {},
   "outputs": [],
   "source": [
    "data_mat = pd.read_csv(config['paths']['data_mat_path'])\n",
    "feat_meta = pd.read_csv(config['paths']['feat_meta_path'])\n",
    "sample_meta = pd.read_csv(config['paths']['sample_meta_path'])\n",
    "exog_stand = pd.read_csv(config['paths']['exog_stan_path'])"
   ]
  },
  {
   "cell_type": "code",
   "execution_count": null,
   "metadata": {},
   "outputs": [],
   "source": []
  },
  {
   "cell_type": "code",
   "execution_count": 5,
   "metadata": {},
   "outputs": [
    {
     "name": "stderr",
     "output_type": "stream",
     "text": [
      "/opt/anaconda3/envs/glycan/lib/python3.11/site-packages/tqdm/auto.py:21: TqdmWarning: IProgress not found. Please update jupyter and ipywidgets. See https://ipywidgets.readthedocs.io/en/stable/user_install.html\n"
     ]
    },
    {
     "data": {
      "text/html": [
       "    <style>\n",
       "        .bk-notebook-logo {\n",
       "            display: block;\n",
       "            width: 20px;\n",
       "            height: 20px;\n",
       "            background-image: url(data:image/png;base64,iVBORw0KGgoAAAANSUhEUgAAABQAAAAUCAYAAACNiR0NAAAABHNCSVQICAgIfAhkiAAAAAlwSFlzAAALEgAACxIB0t1+/AAAABx0RVh0U29mdHdhcmUAQWRvYmUgRmlyZXdvcmtzIENTNui8sowAAAOkSURBVDiNjZRtaJVlGMd/1/08zzln5zjP1LWcU9N0NkN8m2CYjpgQYQXqSs0I84OLIC0hkEKoPtiH3gmKoiJDU7QpLgoLjLIQCpEsNJ1vqUOdO7ppbuec5+V+rj4ctwzd8IIbbi6u+8f1539dt3A78eXC7QizUF7gyV1fD1Yqg4JWz84yffhm0qkFqBogB9rM8tZdtwVsPUhWhGcFJngGeWrPzHm5oaMmkfEg1usvLFyc8jLRqDOMru7AyC8saQr7GG7f5fvDeH7Ej8CM66nIF+8yngt6HWaKh7k49Soy9nXurCi1o3qUbS3zWfrYeQDTB/Qj6kX6Ybhw4B+bOYoLKCC9H3Nu/leUTZ1JdRWkkn2ldcCamzrcf47KKXdAJllSlxAOkRgyHsGC/zRday5Qld9DyoM4/q/rUoy/CXh3jzOu3bHUVZeU+DEn8FInkPBFlu3+nW3Nw0mk6vCDiWg8CeJaxEwuHS3+z5RgY+YBR6V1Z1nxSOfoaPa4LASWxxdNp+VWTk7+4vzaou8v8PN+xo+KY2xsw6une2frhw05CTYOmQvsEhjhWjn0bmXPjpE1+kplmmkP3suftwTubK9Vq22qKmrBhpY4jvd5afdRA3wGjFAgcnTK2s4hY0/GPNIb0nErGMCRxWOOX64Z8RAC4oCXdklmEvcL8o0BfkNK4lUg9HTl+oPlQxdNo3Mg4Nv175e/1LDGzZen30MEjRUtmXSfiTVu1kK8W4txyV6BMKlbgk3lMwYCiusNy9fVfvvwMxv8Ynl6vxoByANLTWplvuj/nF9m2+PDtt1eiHPBr1oIfhCChQMBw6Aw0UulqTKZdfVvfG7VcfIqLG9bcldL/+pdWTLxLUy8Qq38heUIjh4XlzZxzQm19lLFlr8vdQ97rjZVOLf8nclzckbcD4wxXMidpX30sFd37Fv/GtwwhzhxGVAprjbg0gCAEeIgwCZyTV2Z1REEW8O4py0wsjeloKoMr6iCY6dP92H6Vw/oTyICIthibxjm/DfN9lVz8IqtqKYLUXfoKVMVQVVJOElGjrnnUt9T9wbgp8AyYKaGlqingHZU/uG2NTZSVqwHQTWkx9hxjkpWDaCg6Ckj5qebgBVbT3V3NNXMSiWSDdGV3hrtzla7J+duwPOToIg42ChPQOQjspnSlp1V+Gjdged7+8UN5CRAV7a5EdFNwCjEaBR27b3W890TE7g24NAP/mMDXRWrGoFPQI9ls/MWO2dWFAar/xcOIImbbpA3zgAAAABJRU5ErkJggg==);\n",
       "        }\n",
       "    </style>\n",
       "    <div>\n",
       "        <a href=\"https://bokeh.org\" target=\"_blank\" class=\"bk-notebook-logo\"></a>\n",
       "        <span id=\"c7a1b422-7cc2-447e-8139-1706e0e263d4\">Loading BokehJS ...</span>\n",
       "    </div>\n"
      ]
     },
     "metadata": {},
     "output_type": "display_data"
    },
    {
     "data": {
      "application/javascript": "'use strict';\n(function(root) {\n  function now() {\n    return new Date();\n  }\n\n  const force = true;\n\n  if (typeof root._bokeh_onload_callbacks === \"undefined\" || force === true) {\n    root._bokeh_onload_callbacks = [];\n    root._bokeh_is_loading = undefined;\n  }\n\nconst JS_MIME_TYPE = 'application/javascript';\n  const HTML_MIME_TYPE = 'text/html';\n  const EXEC_MIME_TYPE = 'application/vnd.bokehjs_exec.v0+json';\n  const CLASS_NAME = 'output_bokeh rendered_html';\n\n  /**\n   * Render data to the DOM node\n   */\n  function render(props, node) {\n    const script = document.createElement(\"script\");\n    node.appendChild(script);\n  }\n\n  /**\n   * Handle when an output is cleared or removed\n   */\n  function handleClearOutput(event, handle) {\n    function drop(id) {\n      const view = Bokeh.index.get_by_id(id)\n      if (view != null) {\n        view.model.document.clear()\n        Bokeh.index.delete(view)\n      }\n    }\n\n    const cell = handle.cell;\n\n    const id = cell.output_area._bokeh_element_id;\n    const server_id = cell.output_area._bokeh_server_id;\n\n    // Clean up Bokeh references\n    if (id != null) {\n      drop(id)\n    }\n\n    if (server_id !== undefined) {\n      // Clean up Bokeh references\n      const cmd_clean = \"from bokeh.io.state import curstate; print(curstate().uuid_to_server['\" + server_id + \"'].get_sessions()[0].document.roots[0]._id)\";\n      cell.notebook.kernel.execute(cmd_clean, {\n        iopub: {\n          output: function(msg) {\n            const id = msg.content.text.trim()\n            drop(id)\n          }\n        }\n      });\n      // Destroy server and session\n      const cmd_destroy = \"import bokeh.io.notebook as ion; ion.destroy_server('\" + server_id + \"')\";\n      cell.notebook.kernel.execute(cmd_destroy);\n    }\n  }\n\n  /**\n   * Handle when a new output is added\n   */\n  function handleAddOutput(event, handle) {\n    const output_area = handle.output_area;\n    const output = handle.output;\n\n    // limit handleAddOutput to display_data with EXEC_MIME_TYPE content only\n    if ((output.output_type != \"display_data\") || (!Object.prototype.hasOwnProperty.call(output.data, EXEC_MIME_TYPE))) {\n      return\n    }\n\n    const toinsert = output_area.element.find(\".\" + CLASS_NAME.split(' ')[0]);\n\n    if (output.metadata[EXEC_MIME_TYPE][\"id\"] !== undefined) {\n      toinsert[toinsert.length - 1].firstChild.textContent = output.data[JS_MIME_TYPE];\n      // store reference to embed id on output_area\n      output_area._bokeh_element_id = output.metadata[EXEC_MIME_TYPE][\"id\"];\n    }\n    if (output.metadata[EXEC_MIME_TYPE][\"server_id\"] !== undefined) {\n      const bk_div = document.createElement(\"div\");\n      bk_div.innerHTML = output.data[HTML_MIME_TYPE];\n      const script_attrs = bk_div.children[0].attributes;\n      for (let i = 0; i < script_attrs.length; i++) {\n        toinsert[toinsert.length - 1].firstChild.setAttribute(script_attrs[i].name, script_attrs[i].value);\n        toinsert[toinsert.length - 1].firstChild.textContent = bk_div.children[0].textContent\n      }\n      // store reference to server id on output_area\n      output_area._bokeh_server_id = output.metadata[EXEC_MIME_TYPE][\"server_id\"];\n    }\n  }\n\n  function register_renderer(events, OutputArea) {\n\n    function append_mime(data, metadata, element) {\n      // create a DOM node to render to\n      const toinsert = this.create_output_subarea(\n        metadata,\n        CLASS_NAME,\n        EXEC_MIME_TYPE\n      );\n      this.keyboard_manager.register_events(toinsert);\n      // Render to node\n      const props = {data: data, metadata: metadata[EXEC_MIME_TYPE]};\n      render(props, toinsert[toinsert.length - 1]);\n      element.append(toinsert);\n      return toinsert\n    }\n\n    /* Handle when an output is cleared or removed */\n    events.on('clear_output.CodeCell', handleClearOutput);\n    events.on('delete.Cell', handleClearOutput);\n\n    /* Handle when a new output is added */\n    events.on('output_added.OutputArea', handleAddOutput);\n\n    /**\n     * Register the mime type and append_mime function with output_area\n     */\n    OutputArea.prototype.register_mime_type(EXEC_MIME_TYPE, append_mime, {\n      /* Is output safe? */\n      safe: true,\n      /* Index of renderer in `output_area.display_order` */\n      index: 0\n    });\n  }\n\n  // register the mime type if in Jupyter Notebook environment and previously unregistered\n  if (root.Jupyter !== undefined) {\n    const events = require('base/js/events');\n    const OutputArea = require('notebook/js/outputarea').OutputArea;\n\n    if (OutputArea.prototype.mime_types().indexOf(EXEC_MIME_TYPE) == -1) {\n      register_renderer(events, OutputArea);\n    }\n  }\n  if (typeof (root._bokeh_timeout) === \"undefined\" || force === true) {\n    root._bokeh_timeout = Date.now() + 5000;\n    root._bokeh_failed_load = false;\n  }\n\n  const NB_LOAD_WARNING = {'data': {'text/html':\n     \"<div style='background-color: #fdd'>\\n\"+\n     \"<p>\\n\"+\n     \"BokehJS does not appear to have successfully loaded. If loading BokehJS from CDN, this \\n\"+\n     \"may be due to a slow or bad network connection. Possible fixes:\\n\"+\n     \"</p>\\n\"+\n     \"<ul>\\n\"+\n     \"<li>re-rerun `output_notebook()` to attempt to load from CDN again, or</li>\\n\"+\n     \"<li>use INLINE resources instead, as so:</li>\\n\"+\n     \"</ul>\\n\"+\n     \"<code>\\n\"+\n     \"from bokeh.resources import INLINE\\n\"+\n     \"output_notebook(resources=INLINE)\\n\"+\n     \"</code>\\n\"+\n     \"</div>\"}};\n\n  function display_loaded(error = null) {\n    const el = document.getElementById(\"c7a1b422-7cc2-447e-8139-1706e0e263d4\");\n    if (el != null) {\n      const html = (() => {\n        if (typeof root.Bokeh === \"undefined\") {\n          if (error == null) {\n            return \"BokehJS is loading ...\";\n          } else {\n            return \"BokehJS failed to load.\";\n          }\n        } else {\n          const prefix = `BokehJS ${root.Bokeh.version}`;\n          if (error == null) {\n            return `${prefix} successfully loaded.`;\n          } else {\n            return `${prefix} <b>encountered errors</b> while loading and may not function as expected.`;\n          }\n        }\n      })();\n      el.innerHTML = html;\n\n      if (error != null) {\n        const wrapper = document.createElement(\"div\");\n        wrapper.style.overflow = \"auto\";\n        wrapper.style.height = \"5em\";\n        wrapper.style.resize = \"vertical\";\n        const content = document.createElement(\"div\");\n        content.style.fontFamily = \"monospace\";\n        content.style.whiteSpace = \"pre-wrap\";\n        content.style.backgroundColor = \"rgb(255, 221, 221)\";\n        content.textContent = error.stack ?? error.toString();\n        wrapper.append(content);\n        el.append(wrapper);\n      }\n    } else if (Date.now() < root._bokeh_timeout) {\n      setTimeout(() => display_loaded(error), 100);\n    }\n  }\n\n  function run_callbacks() {\n    try {\n      root._bokeh_onload_callbacks.forEach(function(callback) {\n        if (callback != null)\n          callback();\n      });\n    } finally {\n      delete root._bokeh_onload_callbacks\n    }\n    console.debug(\"Bokeh: all callbacks have finished\");\n  }\n\n  function load_libs(css_urls, js_urls, callback) {\n    if (css_urls == null) css_urls = [];\n    if (js_urls == null) js_urls = [];\n\n    root._bokeh_onload_callbacks.push(callback);\n    if (root._bokeh_is_loading > 0) {\n      console.debug(\"Bokeh: BokehJS is being loaded, scheduling callback at\", now());\n      return null;\n    }\n    if (js_urls == null || js_urls.length === 0) {\n      run_callbacks();\n      return null;\n    }\n    console.debug(\"Bokeh: BokehJS not loaded, scheduling load and callback at\", now());\n    root._bokeh_is_loading = css_urls.length + js_urls.length;\n\n    function on_load() {\n      root._bokeh_is_loading--;\n      if (root._bokeh_is_loading === 0) {\n        console.debug(\"Bokeh: all BokehJS libraries/stylesheets loaded\");\n        run_callbacks()\n      }\n    }\n\n    function on_error(url) {\n      console.error(\"failed to load \" + url);\n    }\n\n    for (let i = 0; i < css_urls.length; i++) {\n      const url = css_urls[i];\n      const element = document.createElement(\"link\");\n      element.onload = on_load;\n      element.onerror = on_error.bind(null, url);\n      element.rel = \"stylesheet\";\n      element.type = \"text/css\";\n      element.href = url;\n      console.debug(\"Bokeh: injecting link tag for BokehJS stylesheet: \", url);\n      document.body.appendChild(element);\n    }\n\n    for (let i = 0; i < js_urls.length; i++) {\n      const url = js_urls[i];\n      const element = document.createElement('script');\n      element.onload = on_load;\n      element.onerror = on_error.bind(null, url);\n      element.async = false;\n      element.src = url;\n      console.debug(\"Bokeh: injecting script tag for BokehJS library: \", url);\n      document.head.appendChild(element);\n    }\n  };\n\n  function inject_raw_css(css) {\n    const element = document.createElement(\"style\");\n    element.appendChild(document.createTextNode(css));\n    document.body.appendChild(element);\n  }\n\n  const js_urls = [\"https://cdn.bokeh.org/bokeh/release/bokeh-3.6.2.min.js\", \"https://cdn.bokeh.org/bokeh/release/bokeh-gl-3.6.2.min.js\", \"https://cdn.bokeh.org/bokeh/release/bokeh-widgets-3.6.2.min.js\", \"https://cdn.bokeh.org/bokeh/release/bokeh-tables-3.6.2.min.js\", \"https://cdn.bokeh.org/bokeh/release/bokeh-mathjax-3.6.2.min.js\"];\n  const css_urls = [];\n\n  const inline_js = [    function(Bokeh) {\n      Bokeh.set_log_level(\"info\");\n    },\nfunction(Bokeh) {\n    }\n  ];\n\n  function run_inline_js() {\n    if (root.Bokeh !== undefined || force === true) {\n      try {\n            for (let i = 0; i < inline_js.length; i++) {\n      inline_js[i].call(root, root.Bokeh);\n    }\n\n      } catch (error) {display_loaded(error);throw error;\n      }if (force === true) {\n        display_loaded();\n      }} else if (Date.now() < root._bokeh_timeout) {\n      setTimeout(run_inline_js, 100);\n    } else if (!root._bokeh_failed_load) {\n      console.log(\"Bokeh: BokehJS failed to load within specified timeout.\");\n      root._bokeh_failed_load = true;\n    } else if (force !== true) {\n      const cell = $(document.getElementById(\"c7a1b422-7cc2-447e-8139-1706e0e263d4\")).parents('.cell').data().cell;\n      cell.output_area.append_execute_result(NB_LOAD_WARNING)\n    }\n  }\n\n  if (root._bokeh_is_loading === 0) {\n    console.debug(\"Bokeh: BokehJS loaded, going straight to plotting\");\n    run_inline_js();\n  } else {\n    load_libs(css_urls, js_urls, function() {\n      console.debug(\"Bokeh: BokehJS plotting callback run at\", now());\n      run_inline_js();\n    });\n  }\n}(window));",
      "application/vnd.bokehjs_load.v0+json": ""
     },
     "metadata": {},
     "output_type": "display_data"
    }
   ],
   "source": [
    "from tidyms import DataContainer\n",
    "data_cont = DataContainer(data_matrix = data_mat.set_index('sample'),\n",
    "                         feature_metadata = feat_meta.set_index('feature'),\n",
    "                         sample_metadata = sample_meta.set_index('sample'),\n",
    "                         mapping = config['mapping'])"
   ]
  },
  {
   "cell_type": "code",
   "execution_count": 17,
   "metadata": {},
   "outputs": [
    {
     "data": {
      "text/plain": [
       "np.int64(17)"
      ]
     },
     "execution_count": 17,
     "metadata": {},
     "output_type": "execute_result"
    }
   ],
   "source": [
    "(data_cont.metrics.dratio(robust=False) < 1).sum()"
   ]
  },
  {
   "cell_type": "code",
   "execution_count": 14,
   "metadata": {},
   "outputs": [
    {
     "data": {
      "text/html": [
       "<div>\n",
       "<style scoped>\n",
       "    .dataframe tbody tr th:only-of-type {\n",
       "        vertical-align: middle;\n",
       "    }\n",
       "\n",
       "    .dataframe tbody tr th {\n",
       "        vertical-align: top;\n",
       "    }\n",
       "\n",
       "    .dataframe thead th {\n",
       "        text-align: right;\n",
       "    }\n",
       "</style>\n",
       "<table border=\"1\" class=\"dataframe\">\n",
       "  <thead>\n",
       "    <tr style=\"text-align: right;\">\n",
       "      <th></th>\n",
       "      <th>Feature</th>\n",
       "      <th>QC_CV</th>\n",
       "      <th>Bio_CV</th>\n",
       "      <th>D_Ratio</th>\n",
       "    </tr>\n",
       "  </thead>\n",
       "  <tbody>\n",
       "    <tr>\n",
       "      <th>0</th>\n",
       "      <td>FT-000</td>\n",
       "      <td>0.475538</td>\n",
       "      <td>0.107050</td>\n",
       "      <td>0.970626</td>\n",
       "    </tr>\n",
       "    <tr>\n",
       "      <th>1</th>\n",
       "      <td>FT-001</td>\n",
       "      <td>0.407507</td>\n",
       "      <td>0.101771</td>\n",
       "      <td>0.972748</td>\n",
       "    </tr>\n",
       "    <tr>\n",
       "      <th>2</th>\n",
       "      <td>FT-002</td>\n",
       "      <td>1.032250</td>\n",
       "      <td>0.281652</td>\n",
       "      <td>0.856159</td>\n",
       "    </tr>\n",
       "    <tr>\n",
       "      <th>3</th>\n",
       "      <td>FT-003</td>\n",
       "      <td>0.335532</td>\n",
       "      <td>0.099530</td>\n",
       "      <td>0.965852</td>\n",
       "    </tr>\n",
       "    <tr>\n",
       "      <th>4</th>\n",
       "      <td>FT-004</td>\n",
       "      <td>1.056872</td>\n",
       "      <td>0.282348</td>\n",
       "      <td>0.862934</td>\n",
       "    </tr>\n",
       "    <tr>\n",
       "      <th>...</th>\n",
       "      <td>...</td>\n",
       "      <td>...</td>\n",
       "      <td>...</td>\n",
       "      <td>...</td>\n",
       "    </tr>\n",
       "    <tr>\n",
       "      <th>247</th>\n",
       "      <td>FT-247</td>\n",
       "      <td>1.207309</td>\n",
       "      <td>0.460630</td>\n",
       "      <td>0.811324</td>\n",
       "    </tr>\n",
       "    <tr>\n",
       "      <th>248</th>\n",
       "      <td>FT-248</td>\n",
       "      <td>0.803797</td>\n",
       "      <td>0.199504</td>\n",
       "      <td>0.922324</td>\n",
       "    </tr>\n",
       "    <tr>\n",
       "      <th>249</th>\n",
       "      <td>FT-249</td>\n",
       "      <td>1.085948</td>\n",
       "      <td>0.296631</td>\n",
       "      <td>0.866866</td>\n",
       "    </tr>\n",
       "    <tr>\n",
       "      <th>250</th>\n",
       "      <td>FT-250</td>\n",
       "      <td>1.052998</td>\n",
       "      <td>0.215077</td>\n",
       "      <td>0.931349</td>\n",
       "    </tr>\n",
       "    <tr>\n",
       "      <th>251</th>\n",
       "      <td>FT-251</td>\n",
       "      <td>1.432441</td>\n",
       "      <td>1.326255</td>\n",
       "      <td>0.388892</td>\n",
       "    </tr>\n",
       "  </tbody>\n",
       "</table>\n",
       "<p>252 rows × 4 columns</p>\n",
       "</div>"
      ],
      "text/plain": [
       "    Feature     QC_CV    Bio_CV   D_Ratio\n",
       "0    FT-000  0.475538  0.107050  0.970626\n",
       "1    FT-001  0.407507  0.101771  0.972748\n",
       "2    FT-002  1.032250  0.281652  0.856159\n",
       "3    FT-003  0.335532  0.099530  0.965852\n",
       "4    FT-004  1.056872  0.282348  0.862934\n",
       "..      ...       ...       ...       ...\n",
       "247  FT-247  1.207309  0.460630  0.811324\n",
       "248  FT-248  0.803797  0.199504  0.922324\n",
       "249  FT-249  1.085948  0.296631  0.866866\n",
       "250  FT-250  1.052998  0.215077  0.931349\n",
       "251  FT-251  1.432441  1.326255  0.388892\n",
       "\n",
       "[252 rows x 4 columns]"
      ]
     },
     "execution_count": 14,
     "metadata": {},
     "output_type": "execute_result"
    }
   ],
   "source": [
    "qc_samples = sample_meta[(sample_meta['class'].isin(['QC']))]['sample']\n",
    "bio_samples = sample_meta[sample_meta['class'].isin(['Dunn', 'French', 'LMU'])]['sample']\n",
    "\n",
    "# Combine results into a summary DataFrame\n",
    "d_ratio = calculate_d_ratio(data_mat, qc_samples, bio_samples)\n",
    "d_ratio"
   ]
  },
  {
   "cell_type": "code",
   "execution_count": 19,
   "metadata": {},
   "outputs": [
    {
     "data": {
      "text/plain": [
       "np.int64(9)"
      ]
     },
     "execution_count": 19,
     "metadata": {},
     "output_type": "execute_result"
    }
   ],
   "source": [
    "(d_ratio['D_Ratio']<0.5).sum()"
   ]
  },
  {
   "cell_type": "code",
   "execution_count": 21,
   "metadata": {},
   "outputs": [
    {
     "data": {
      "text/html": [
       "<div>\n",
       "<style scoped>\n",
       "    .dataframe tbody tr th:only-of-type {\n",
       "        vertical-align: middle;\n",
       "    }\n",
       "\n",
       "    .dataframe tbody tr th {\n",
       "        vertical-align: top;\n",
       "    }\n",
       "\n",
       "    .dataframe thead th {\n",
       "        text-align: right;\n",
       "    }\n",
       "</style>\n",
       "<table border=\"1\" class=\"dataframe\">\n",
       "  <thead>\n",
       "    <tr style=\"text-align: right;\">\n",
       "      <th></th>\n",
       "      <th>FT-000</th>\n",
       "      <th>FT-001</th>\n",
       "      <th>FT-002</th>\n",
       "      <th>FT-003</th>\n",
       "      <th>FT-004</th>\n",
       "      <th>FT-005</th>\n",
       "      <th>FT-006</th>\n",
       "      <th>FT-007</th>\n",
       "      <th>FT-008</th>\n",
       "      <th>FT-009</th>\n",
       "      <th>...</th>\n",
       "      <th>FT-242</th>\n",
       "      <th>FT-243</th>\n",
       "      <th>FT-244</th>\n",
       "      <th>FT-245</th>\n",
       "      <th>FT-246</th>\n",
       "      <th>FT-247</th>\n",
       "      <th>FT-248</th>\n",
       "      <th>FT-249</th>\n",
       "      <th>FT-250</th>\n",
       "      <th>FT-251</th>\n",
       "    </tr>\n",
       "    <tr>\n",
       "      <th>class</th>\n",
       "      <th></th>\n",
       "      <th></th>\n",
       "      <th></th>\n",
       "      <th></th>\n",
       "      <th></th>\n",
       "      <th></th>\n",
       "      <th></th>\n",
       "      <th></th>\n",
       "      <th></th>\n",
       "      <th></th>\n",
       "      <th></th>\n",
       "      <th></th>\n",
       "      <th></th>\n",
       "      <th></th>\n",
       "      <th></th>\n",
       "      <th></th>\n",
       "      <th></th>\n",
       "      <th></th>\n",
       "      <th></th>\n",
       "      <th></th>\n",
       "      <th></th>\n",
       "    </tr>\n",
       "  </thead>\n",
       "  <tbody>\n",
       "    <tr>\n",
       "      <th>B</th>\n",
       "      <td>1.643249</td>\n",
       "      <td>1.529699</td>\n",
       "      <td>inf</td>\n",
       "      <td>2.043100</td>\n",
       "      <td>inf</td>\n",
       "      <td>inf</td>\n",
       "      <td>inf</td>\n",
       "      <td>inf</td>\n",
       "      <td>inf</td>\n",
       "      <td>inf</td>\n",
       "      <td>...</td>\n",
       "      <td>inf</td>\n",
       "      <td>3.316625</td>\n",
       "      <td>2.253248</td>\n",
       "      <td>3.316625</td>\n",
       "      <td>inf</td>\n",
       "      <td>inf</td>\n",
       "      <td>2.338963</td>\n",
       "      <td>inf</td>\n",
       "      <td>inf</td>\n",
       "      <td>inf</td>\n",
       "    </tr>\n",
       "    <tr>\n",
       "      <th>Dunn</th>\n",
       "      <td>0.083354</td>\n",
       "      <td>0.090343</td>\n",
       "      <td>0.312634</td>\n",
       "      <td>0.091189</td>\n",
       "      <td>0.310834</td>\n",
       "      <td>0.291509</td>\n",
       "      <td>0.312270</td>\n",
       "      <td>0.150186</td>\n",
       "      <td>0.141874</td>\n",
       "      <td>0.133381</td>\n",
       "      <td>...</td>\n",
       "      <td>0.347098</td>\n",
       "      <td>0.202888</td>\n",
       "      <td>0.201829</td>\n",
       "      <td>0.285717</td>\n",
       "      <td>0.383964</td>\n",
       "      <td>0.249434</td>\n",
       "      <td>0.143965</td>\n",
       "      <td>0.242138</td>\n",
       "      <td>0.161023</td>\n",
       "      <td>1.558218</td>\n",
       "    </tr>\n",
       "    <tr>\n",
       "      <th>French</th>\n",
       "      <td>0.113385</td>\n",
       "      <td>0.094959</td>\n",
       "      <td>0.214364</td>\n",
       "      <td>0.092923</td>\n",
       "      <td>0.216498</td>\n",
       "      <td>0.172595</td>\n",
       "      <td>0.200124</td>\n",
       "      <td>0.092619</td>\n",
       "      <td>0.091243</td>\n",
       "      <td>0.090788</td>\n",
       "      <td>...</td>\n",
       "      <td>0.279395</td>\n",
       "      <td>0.243327</td>\n",
       "      <td>0.241317</td>\n",
       "      <td>0.352181</td>\n",
       "      <td>0.208867</td>\n",
       "      <td>0.459429</td>\n",
       "      <td>0.130532</td>\n",
       "      <td>0.211294</td>\n",
       "      <td>0.136625</td>\n",
       "      <td>0.269884</td>\n",
       "    </tr>\n",
       "    <tr>\n",
       "      <th>LMU</th>\n",
       "      <td>0.119320</td>\n",
       "      <td>0.115566</td>\n",
       "      <td>0.309540</td>\n",
       "      <td>0.110299</td>\n",
       "      <td>0.307217</td>\n",
       "      <td>0.264032</td>\n",
       "      <td>0.293647</td>\n",
       "      <td>0.144113</td>\n",
       "      <td>0.142729</td>\n",
       "      <td>0.136453</td>\n",
       "      <td>...</td>\n",
       "      <td>0.232675</td>\n",
       "      <td>0.262654</td>\n",
       "      <td>0.198125</td>\n",
       "      <td>0.308745</td>\n",
       "      <td>2.713183</td>\n",
       "      <td>0.430967</td>\n",
       "      <td>0.175193</td>\n",
       "      <td>0.259900</td>\n",
       "      <td>0.176652</td>\n",
       "      <td>1.542990</td>\n",
       "    </tr>\n",
       "    <tr>\n",
       "      <th>QC</th>\n",
       "      <td>0.475538</td>\n",
       "      <td>0.407507</td>\n",
       "      <td>1.032250</td>\n",
       "      <td>0.335532</td>\n",
       "      <td>1.056872</td>\n",
       "      <td>1.052403</td>\n",
       "      <td>1.058605</td>\n",
       "      <td>1.019034</td>\n",
       "      <td>1.039791</td>\n",
       "      <td>1.040915</td>\n",
       "      <td>...</td>\n",
       "      <td>0.992230</td>\n",
       "      <td>1.009704</td>\n",
       "      <td>1.066782</td>\n",
       "      <td>0.985666</td>\n",
       "      <td>1.531976</td>\n",
       "      <td>1.207309</td>\n",
       "      <td>0.803797</td>\n",
       "      <td>1.085948</td>\n",
       "      <td>1.052998</td>\n",
       "      <td>1.432441</td>\n",
       "    </tr>\n",
       "    <tr>\n",
       "      <th>SS</th>\n",
       "      <td>0.320862</td>\n",
       "      <td>0.348790</td>\n",
       "      <td>1.414214</td>\n",
       "      <td>0.263458</td>\n",
       "      <td>1.414214</td>\n",
       "      <td>1.414214</td>\n",
       "      <td>1.414214</td>\n",
       "      <td>1.414214</td>\n",
       "      <td>1.414214</td>\n",
       "      <td>1.414214</td>\n",
       "      <td>...</td>\n",
       "      <td>inf</td>\n",
       "      <td>inf</td>\n",
       "      <td>inf</td>\n",
       "      <td>inf</td>\n",
       "      <td>1.414214</td>\n",
       "      <td>1.414214</td>\n",
       "      <td>inf</td>\n",
       "      <td>inf</td>\n",
       "      <td>inf</td>\n",
       "      <td>1.414214</td>\n",
       "    </tr>\n",
       "    <tr>\n",
       "      <th>dQC</th>\n",
       "      <td>0.316362</td>\n",
       "      <td>0.310090</td>\n",
       "      <td>1.149730</td>\n",
       "      <td>0.304755</td>\n",
       "      <td>1.168879</td>\n",
       "      <td>1.152869</td>\n",
       "      <td>1.167743</td>\n",
       "      <td>1.019173</td>\n",
       "      <td>1.052552</td>\n",
       "      <td>1.054757</td>\n",
       "      <td>...</td>\n",
       "      <td>1.077021</td>\n",
       "      <td>1.180627</td>\n",
       "      <td>1.095578</td>\n",
       "      <td>1.118832</td>\n",
       "      <td>3.022084</td>\n",
       "      <td>1.064716</td>\n",
       "      <td>0.827060</td>\n",
       "      <td>1.111774</td>\n",
       "      <td>1.104260</td>\n",
       "      <td>2.782772</td>\n",
       "    </tr>\n",
       "  </tbody>\n",
       "</table>\n",
       "<p>7 rows × 252 columns</p>\n",
       "</div>"
      ],
      "text/plain": [
       "          FT-000    FT-001    FT-002    FT-003    FT-004    FT-005    FT-006  \\\n",
       "class                                                                          \n",
       "B       1.643249  1.529699       inf  2.043100       inf       inf       inf   \n",
       "Dunn    0.083354  0.090343  0.312634  0.091189  0.310834  0.291509  0.312270   \n",
       "French  0.113385  0.094959  0.214364  0.092923  0.216498  0.172595  0.200124   \n",
       "LMU     0.119320  0.115566  0.309540  0.110299  0.307217  0.264032  0.293647   \n",
       "QC      0.475538  0.407507  1.032250  0.335532  1.056872  1.052403  1.058605   \n",
       "SS      0.320862  0.348790  1.414214  0.263458  1.414214  1.414214  1.414214   \n",
       "dQC     0.316362  0.310090  1.149730  0.304755  1.168879  1.152869  1.167743   \n",
       "\n",
       "          FT-007    FT-008    FT-009  ...    FT-242    FT-243    FT-244  \\\n",
       "class                                 ...                                 \n",
       "B            inf       inf       inf  ...       inf  3.316625  2.253248   \n",
       "Dunn    0.150186  0.141874  0.133381  ...  0.347098  0.202888  0.201829   \n",
       "French  0.092619  0.091243  0.090788  ...  0.279395  0.243327  0.241317   \n",
       "LMU     0.144113  0.142729  0.136453  ...  0.232675  0.262654  0.198125   \n",
       "QC      1.019034  1.039791  1.040915  ...  0.992230  1.009704  1.066782   \n",
       "SS      1.414214  1.414214  1.414214  ...       inf       inf       inf   \n",
       "dQC     1.019173  1.052552  1.054757  ...  1.077021  1.180627  1.095578   \n",
       "\n",
       "          FT-245    FT-246    FT-247    FT-248    FT-249    FT-250    FT-251  \n",
       "class                                                                         \n",
       "B       3.316625       inf       inf  2.338963       inf       inf       inf  \n",
       "Dunn    0.285717  0.383964  0.249434  0.143965  0.242138  0.161023  1.558218  \n",
       "French  0.352181  0.208867  0.459429  0.130532  0.211294  0.136625  0.269884  \n",
       "LMU     0.308745  2.713183  0.430967  0.175193  0.259900  0.176652  1.542990  \n",
       "QC      0.985666  1.531976  1.207309  0.803797  1.085948  1.052998  1.432441  \n",
       "SS           inf  1.414214  1.414214       inf       inf       inf  1.414214  \n",
       "dQC     1.118832  3.022084  1.064716  0.827060  1.111774  1.104260  2.782772  \n",
       "\n",
       "[7 rows x 252 columns]"
      ]
     },
     "execution_count": 21,
     "metadata": {},
     "output_type": "execute_result"
    }
   ],
   "source": [
    "data_cont.metrics.cv()"
   ]
  },
  {
   "cell_type": "code",
   "execution_count": null,
   "metadata": {},
   "outputs": [],
   "source": []
  },
  {
   "cell_type": "code",
   "execution_count": null,
   "metadata": {},
   "outputs": [],
   "source": []
  },
  {
   "cell_type": "code",
   "execution_count": null,
   "metadata": {},
   "outputs": [],
   "source": []
  },
  {
   "cell_type": "code",
   "execution_count": 27,
   "metadata": {},
   "outputs": [],
   "source": [
    "sample_meta = pd.read_csv(config['paths']['sample_meta_path'])\n",
    "sample_meta = sample_meta[sample_meta['batch']==1]\n",
    "\n",
    "data_mat = pd.read_csv(config['paths']['data_mat_path'])\n",
    "data_mat = data_mat[data_mat['sample'].isin(sample_meta['sample'].values.tolist())]\n",
    "\n",
    "feat_meta = pd.read_csv(config['paths']['feat_meta_path'])"
   ]
  },
  {
   "cell_type": "code",
   "execution_count": 28,
   "metadata": {},
   "outputs": [],
   "source": [
    "from tidyms import DataContainer\n",
    "data_cont = DataContainer(data_matrix = data_mat.set_index('sample'),\n",
    "                         feature_metadata = feat_meta.set_index('feature'),\n",
    "                         sample_metadata = sample_meta.set_index('sample'),\n",
    "                         mapping = {'blank': ['B'], 'sample': ['Dunn', 'French', 'LMU'], 'qc': ['QC', 'dQC']})"
   ]
  },
  {
   "cell_type": "code",
   "execution_count": 6,
   "metadata": {},
   "outputs": [
    {
     "data": {
      "text/plain": [
       "{'blank': ['B'], 'sample': ['Dunn', 'French', 'LMU'], 'qc': ['QC', 'dQC']}"
      ]
     },
     "execution_count": 6,
     "metadata": {},
     "output_type": "execute_result"
    }
   ],
   "source": [
    "config['mapping']"
   ]
  },
  {
   "cell_type": "code",
   "execution_count": 7,
   "metadata": {},
   "outputs": [],
   "source": [
    "#data_cont.preprocess.correct_batches(min_qc_dr=0.8, verbose=False)"
   ]
  },
  {
   "cell_type": "code",
   "execution_count": 8,
   "metadata": {},
   "outputs": [],
   "source": [
    "import tidyms as ms\n"
   ]
  },
  {
   "cell_type": "code",
   "execution_count": 9,
   "metadata": {},
   "outputs": [
    {
     "name": "stdout",
     "output_type": "stream",
     "text": [
      "Applying Variation Filter: 59 features removed, 0 samples removed, Mean CV reduced by 1.21 %.\n",
      "Applying Prevalence Filter: 0 features removed, 0 samples removed, Mean CV reduced by 0.00 %.\n"
     ]
    }
   ],
   "source": [
    "# remove blank and conditioning QC samples\n",
    "class_filter = ms.filter.ClassRemover([\"B\"])\n",
    "# remove features high a %RSD higher than 20 % in the QC samples\n",
    "vf = ms.filter.VariationFilter(ub=0.3, robust=False)\n",
    "# remove features that are not detected in all study samples\n",
    "pf = ms.filter.PrevalenceFilter(lb=0.7, threshold=0)\n",
    "# remove features with low biological variation\n",
    "drf= ms.filter.DRatioFilter(ub=0.1, robust=True)\n",
    "\n",
    "# Build and apply the data curation pipeline\n",
    "processors = [vf, pf]\n",
    "pipeline = ms.filter.Pipeline(processors, verbose=True)\n",
    "pipeline.process(data_cont)"
   ]
  },
  {
   "cell_type": "code",
   "execution_count": 29,
   "metadata": {},
   "outputs": [],
   "source": [
    "q = data_cont.metrics.cv()"
   ]
  },
  {
   "cell_type": "code",
   "execution_count": 30,
   "metadata": {},
   "outputs": [
    {
     "data": {
      "text/plain": [
       "Index(['B', 'Dunn', 'French', 'LMU', 'QC', 'SS', 'dQC'], dtype='object', name='class')"
      ]
     },
     "execution_count": 30,
     "metadata": {},
     "output_type": "execute_result"
    }
   ],
   "source": [
    "q.index"
   ]
  },
  {
   "cell_type": "code",
   "execution_count": 32,
   "metadata": {},
   "outputs": [
    {
     "data": {
      "text/plain": [
       "np.int64(158)"
      ]
     },
     "execution_count": 32,
     "metadata": {},
     "output_type": "execute_result"
    }
   ],
   "source": [
    "(q.iloc[q.index.isin(['QC', 'dQC']), : ] < 0.3).all().sum()"
   ]
  },
  {
   "cell_type": "code",
   "execution_count": null,
   "metadata": {},
   "outputs": [],
   "source": []
  }
 ],
 "metadata": {
  "kernelspec": {
   "display_name": "glycan",
   "language": "python",
   "name": "python3"
  },
  "language_info": {
   "codemirror_mode": {
    "name": "ipython",
    "version": 3
   },
   "file_extension": ".py",
   "mimetype": "text/x-python",
   "name": "python",
   "nbconvert_exporter": "python",
   "pygments_lexer": "ipython3",
   "version": "3.11.11"
  }
 },
 "nbformat": 4,
 "nbformat_minor": 2
}
