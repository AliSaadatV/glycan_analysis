{
 "cells": [
  {
   "cell_type": "code",
   "execution_count": null,
   "metadata": {
    "vscode": {
     "languageId": "plaintext"
    }
   },
   "outputs": [],
   "source": [
    "from tidyms import DataContainer\n",
    "data_cont = DataContainer(data_matrix = data_mat.set_index('sample'),\n",
    "                         feature_metadata = feat_meta.set_index('feature'),\n",
    "                         sample_metadata = sample_meta.set_index('sample'),\n",
    "                         mapping = config['mapping'])"
   ]
  },
  {
   "cell_type": "code",
   "execution_count": null,
   "metadata": {
    "vscode": {
     "languageId": "plaintext"
    }
   },
   "outputs": [],
   "source": [
    "def get_mz_rt_for_exog_stand(compound_id):\n",
    "    mz = exog_stand[exog_stand['compound_id']==compound_id]['mz'].values[0]\n",
    "    rt = exog_stand[exog_stand['compound_id']==compound_id]['Retention_time'].values[0]\n",
    "    return mz, rt"
   ]
  },
  {
   "cell_type": "code",
   "execution_count": null,
   "metadata": {
    "vscode": {
     "languageId": "plaintext"
    }
   },
   "outputs": [],
   "source": [
    "q_mz, q_rt = get_mz_rt_for_exog_stand('GU14')"
   ]
  },
  {
   "cell_type": "code",
   "execution_count": null,
   "metadata": {
    "vscode": {
     "languageId": "plaintext"
    }
   },
   "outputs": [],
   "source": [
    "q = data_cont.select_features(q_mz, q_rt, mz_tol=1, rt_tol=5)"
   ]
  },
  {
   "cell_type": "code",
   "execution_count": null,
   "metadata": {
    "vscode": {
     "languageId": "plaintext"
    }
   },
   "outputs": [],
   "source": [
    "feat_meta[feat_meta['feature'] == q[1]]"
   ]
  }
 ],
 "metadata": {
  "language_info": {
   "name": "python"
  }
 },
 "nbformat": 4,
 "nbformat_minor": 2
}
