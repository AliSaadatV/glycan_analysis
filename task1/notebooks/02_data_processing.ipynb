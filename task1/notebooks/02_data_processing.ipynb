{
 "cells": [
  {
   "cell_type": "code",
   "execution_count": 1,
   "metadata": {},
   "outputs": [],
   "source": [
    "import pandas as pd\n",
    "import matplotlib.pyplot as plt\n",
    "import seaborn as sns\n",
    "import sys\n",
    "import os\n",
    "\n",
    "sys.path.append(os.path.abspath(os.path.join(os.getcwd(), '..')))\n",
    "from src.utils import load_config, seed_everything, calculate_cv_per_class, calculate_d_ratio, calculate_detection_rate, correct_blank, get_low_cv_features, get_high_detection_rate_features, get_high_mz_features"
   ]
  },
  {
   "cell_type": "code",
   "execution_count": 2,
   "metadata": {},
   "outputs": [],
   "source": [
    "# for reproducibility\n",
    "seed_everything(42)\n",
    "\n",
    "# config file\n",
    "config = load_config(\"../configs/config.yaml\")\n",
    "\n",
    "# Set Seaborn style\n",
    "sns.set(style=config['sns_params']['style'],\n",
    "        palette=config['sns_params']['palette'],\n",
    "        font_scale=config['sns_params']['font_scale'])\n",
    "\n",
    "# Set Matplotlib parameters\n",
    "plt.rcParams.update(config['plt_params'])"
   ]
  },
  {
   "cell_type": "markdown",
   "metadata": {},
   "source": [
    "### Read files "
   ]
  },
  {
   "cell_type": "code",
   "execution_count": 3,
   "metadata": {},
   "outputs": [],
   "source": [
    "sample_meta = pd.read_csv(config['paths']['sample_meta_path'])\n",
    "sample_meta = sample_meta[sample_meta['batch']==1]\n",
    "\n",
    "data_mat = pd.read_csv(config['paths']['data_mat_path'])\n",
    "data_mat = data_mat[data_mat['sample'].isin(sample_meta['sample'].values.tolist())]\n",
    "\n",
    "feat_meta = pd.read_csv(config['paths']['feat_meta_path'])\n",
    "\n",
    "ft_columns = [col for col in data_mat.columns if col.startswith('FT')]"
   ]
  },
  {
   "cell_type": "markdown",
   "metadata": {},
   "source": [
    "### Filters"
   ]
  },
  {
   "cell_type": "code",
   "execution_count": 4,
   "metadata": {},
   "outputs": [
    {
     "data": {
      "text/plain": [
       "193"
      ]
     },
     "execution_count": 4,
     "metadata": {},
     "output_type": "execute_result"
    }
   ],
   "source": [
    "# filter 1: CV < 0.3\n",
    "low_cv_features = get_low_cv_features(data_mat, sample_meta, ft_columns, threshold=0.3)\n",
    "len(low_cv_features)\n"
   ]
  },
  {
   "cell_type": "code",
   "execution_count": 5,
   "metadata": {},
   "outputs": [
    {
     "data": {
      "text/plain": [
       "252"
      ]
     },
     "execution_count": 5,
     "metadata": {},
     "output_type": "execute_result"
    }
   ],
   "source": [
    "# filter 2: detection rate > 0.7\n",
    "high_detection_rate_features = get_high_detection_rate_features(data_mat, sample_meta, ft_columns, bio_samples=['LMU', 'French', 'Dunn'], threshold=0.7)\n",
    "len(high_detection_rate_features)"
   ]
  },
  {
   "cell_type": "code",
   "execution_count": 6,
   "metadata": {},
   "outputs": [
    {
     "data": {
      "text/plain": [
       "248"
      ]
     },
     "execution_count": 6,
     "metadata": {},
     "output_type": "execute_result"
    }
   ],
   "source": [
    "# filter 3: mz > 500\n",
    "features_in_mass_range = get_high_mz_features(feat_meta, mz_threshold=500)\n",
    "len(features_in_mass_range)"
   ]
  },
  {
   "cell_type": "code",
   "execution_count": null,
   "metadata": {},
   "outputs": [],
   "source": [
    "# apply all filters\n",
    "pass_features = set(low_cv_features) & set(high_detection_rate_features) & set(features_in_mass_range)\n",
    "len(pass_features)"
   ]
  }
 ],
 "metadata": {
  "kernelspec": {
   "display_name": "glycan",
   "language": "python",
   "name": "python3"
  },
  "language_info": {
   "codemirror_mode": {
    "name": "ipython",
    "version": 3
   },
   "file_extension": ".py",
   "mimetype": "text/x-python",
   "name": "python",
   "nbconvert_exporter": "python",
   "pygments_lexer": "ipython3",
   "version": "3.11.11"
  }
 },
 "nbformat": 4,
 "nbformat_minor": 2
}
